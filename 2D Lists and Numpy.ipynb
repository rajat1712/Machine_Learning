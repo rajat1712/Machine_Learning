{
 "cells": [
  {
   "cell_type": "code",
   "execution_count": 11,
   "metadata": {},
   "outputs": [
    {
     "name": "stdout",
     "output_type": "stream",
     "text": [
      "[1, 2, [3, 4, 5]]\n",
      "3\n",
      "4\n",
      "[0, 2, 4, 6, 8, 10, 12, 14, 16, 18]\n",
      "[[0, 1, 2], [5, 6, 7], [10, 11, 12], [15, 16, 17], [20, 21, 22]] "
     ]
    }
   ],
   "source": [
    "#creating 2D List\n",
    "l=[1,2,[3,4,5]]\n",
    "print(l)\n",
    "print(l[2][0])\n",
    "print(l[2][1])\n",
    "l1d=[i*2 for i in range(10)]\n",
    "print(l1d)\n",
    "l2d=[[5*i+j for j in range(3)] for i in range(5)]\n",
    "print(l2d,end=\" \")"
   ]
  },
  {
   "cell_type": "code",
   "execution_count": 12,
   "metadata": {},
   "outputs": [
    {
     "name": "stdout",
     "output_type": "stream",
     "text": [
      "2 3\n",
      "1 2 3 4 5 6\n",
      "[[1, 2, 3], [4, 5, 6]]\n"
     ]
    }
   ],
   "source": [
    "# taking input in 2D list\n",
    "str=input().strip().split(\" \")\n",
    "n=int(str[0])\n",
    "m=int(str[1])\n",
    "list=[int(x) for x in input().strip().split(\" \")]\n",
    "out=[]\n",
    "for i in range(n):\n",
    "    out.append([])\n",
    "    for j in range(m):\n",
    "        out[i].append(list[i*m+j])\n",
    "print(out)"
   ]
  },
  {
   "cell_type": "code",
   "execution_count": 15,
   "metadata": {},
   "outputs": [
    {
     "name": "stdout",
     "output_type": "stream",
     "text": [
      "2 3 \n",
      "1 2 3 4 5 6\n",
      "[[1, 2, 3], [4, 5, 6]]\n"
     ]
    }
   ],
   "source": [
    "# shorter way to do the same\n",
    "str=input().strip().split(\" \")\n",
    "n=int(str[0])\n",
    "m=int(str[1])\n",
    "list=[int(x) for x in input().strip().split(\" \")]\n",
    "out=[[list[i*m+j] for j in range(m)] for i in range(n)]\n",
    "print(out)"
   ]
  },
  {
   "cell_type": "code",
   "execution_count": 18,
   "metadata": {},
   "outputs": [
    {
     "name": "stdout",
     "output_type": "stream",
     "text": [
      "2 3 \n",
      "1 2 3 4 5 6\n",
      "1 4 5 2 3 6 "
     ]
    }
   ],
   "source": [
    "# wave print function\n",
    "def solve(out,n,m):\n",
    "    for i in range(m):\n",
    "        if(i%2==0):\n",
    "            for j in range(0,n):\n",
    "                print(out[j][i],end=\" \")\n",
    "        else:\n",
    "            for j in range(n-1,-1,-1):\n",
    "                print(out[j][i],end=\" \")\n",
    "\n",
    "# main\n",
    "str=input().strip().split(\" \")\n",
    "n=int(str[0])\n",
    "m=int(str[1])\n",
    "list=[int(x) for x in input().strip().split(\" \")]\n",
    "out=[]\n",
    "for i in range(0,n):\n",
    "    out.append([])\n",
    "    for j in range(0,m):\n",
    "        out[i].append(list[i*m+j])\n",
    "solve(out,n,m)"
   ]
  },
  {
   "cell_type": "code",
   "execution_count": 26,
   "metadata": {},
   "outputs": [
    {
     "name": "stdout",
     "output_type": "stream",
     "text": [
      "2 3\n",
      "1 2 3 4 5 6\n",
      "row 1 15 "
     ]
    }
   ],
   "source": [
    "#largest row or column\n",
    "MIN_VALUE=-2147483648\n",
    "\n",
    "def solve(out,row,col):\n",
    "    largerSum=MIN_VALUE\n",
    "    isRow=True\n",
    "    number=0\n",
    "    for i in range(row):\n",
    "        rowSum=0\n",
    "        for j in range(col):\n",
    "            rowSum=rowSum+out[i][j]\n",
    "        if(rowSum > largerSum):\n",
    "            largerSum=rowSum\n",
    "            number=i\n",
    "    for j in range(col):\n",
    "        colSum=0\n",
    "        for i in range(row):\n",
    "            colSum=colSum+out[i][j]\n",
    "        if(colSum > largerSum):\n",
    "            largerSum=colSum\n",
    "            number=j\n",
    "            isRow=False\n",
    "    if(isRow):\n",
    "        print(\"row\",end=\" \")\n",
    "        print(number,end=\" \")\n",
    "        print(largerSum,end=\" \")\n",
    "    else:\n",
    "        print(\"column\",end=\" \")\n",
    "        print(number,end=\" \")\n",
    "        print(largerSum,end=\" \")\n",
    "        \n",
    "\n",
    "\n",
    "# main\n",
    "str=input().strip().split(\" \")\n",
    "row=int(str[0])\n",
    "col=int(str[1])\n",
    "l=[int(x) for x in input().strip().split(\" \")]\n",
    "out=[]\n",
    "for i in range(row):\n",
    "    out.append([])\n",
    "    for j in range(col):\n",
    "        out[i].append(l[i*m+j])\n",
    "solve(out,row,col)"
   ]
  },
  {
   "cell_type": "code",
   "execution_count": null,
   "metadata": {},
   "outputs": [],
   "source": [
    "# wave print\n",
    "def solve(out,n,m):\n",
    "    numberOfElements=n*m\n",
    "    count=0\n",
    "    rowStart=0\n",
    "    colStart=0\n",
    "    while(count<numberOfElements):\n",
    "        for i in range(colStart,m):\n",
    "            print(out[rowStart][i],end=\" \")\n",
    "            count+=1\n",
    "        rowStart+=1\n",
    "        \n",
    "        for i in range(rowStart,n):\n",
    "            print(out[i][m-1],end=\" \")\n",
    "            count+=1\n",
    "        m-=1\n",
    "        \n",
    "        for i in range(col-1,colStart+1,-1):\n",
    "            print(out[n-1][i],end=\" \")\n",
    "            count+=1\n",
    "        n-=1\n",
    "        \n",
    "        for i in range(row-1,rowStart+1,-1):\n",
    "            print(out[i][colStart],end=\" \")\n",
    "            count+=1\n",
    "        colStart+=1\n",
    "\n",
    "#main\n",
    "str=input().strip().split(\" \")\n",
    "n=int(str[0])\n",
    "m=int(str[1])\n",
    "l=[int(x) for x in input().strip().split(\" \")]\n",
    "out=[]\n",
    "for i in range(0,n):\n",
    "    out.append([])\n",
    "    for j in range(0,m):\n",
    "        out[i].append(l[i*m+j])\n",
    "solve(out,n,m)"
   ]
  }
 ],
 "metadata": {
  "kernelspec": {
   "display_name": "Python 3",
   "language": "python",
   "name": "python3"
  },
  "language_info": {
   "codemirror_mode": {
    "name": "ipython",
    "version": 3
   },
   "file_extension": ".py",
   "mimetype": "text/x-python",
   "name": "python",
   "nbconvert_exporter": "python",
   "pygments_lexer": "ipython3",
   "version": "3.7.4"
  }
 },
 "nbformat": 4,
 "nbformat_minor": 2
}
