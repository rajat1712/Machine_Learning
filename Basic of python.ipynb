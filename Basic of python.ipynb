{
 "cells": [
  {
   "cell_type": "code",
   "execution_count": 3,
   "metadata": {},
   "outputs": [],
   "source": [
    "## Intro to python"
   ]
  },
  {
   "cell_type": "code",
   "execution_count": 4,
   "metadata": {},
   "outputs": [
    {
     "name": "stdout",
     "output_type": "stream",
     "text": [
      "10\n"
     ]
    }
   ],
   "source": [
    "a=10\n",
    "print(a)"
   ]
  },
  {
   "cell_type": "markdown",
   "metadata": {},
   "source": [
    "##### "
   ]
  },
  {
   "cell_type": "code",
   "execution_count": 7,
   "metadata": {},
   "outputs": [
    {
     "name": "stdout",
     "output_type": "stream",
     "text": [
      "15 12\n"
     ]
    }
   ],
   "source": [
    "a=15\n",
    "print(a,end=\" \")\n",
    "print(12)"
   ]
  },
  {
   "cell_type": "code",
   "execution_count": 9,
   "metadata": {},
   "outputs": [
    {
     "data": {
      "text/plain": [
       "10"
      ]
     },
     "execution_count": 9,
     "metadata": {},
     "output_type": "execute_result"
    }
   ],
   "source": [
    "a=10\n",
    "b=20\n",
    "a\n"
   ]
  },
  {
   "cell_type": "code",
   "execution_count": 10,
   "metadata": {},
   "outputs": [
    {
     "name": "stdout",
     "output_type": "stream",
     "text": [
      "<class 'int'>\n",
      "<class 'float'>\n",
      "<class 'complex'>\n"
     ]
    }
   ],
   "source": [
    "# variables and types of numbers\n",
    "a=10\n",
    "print(type(a))\n",
    "b=20.345\n",
    "print(type(b))\n",
    "c=1+3j\n",
    "print(type(c))"
   ]
  },
  {
   "cell_type": "code",
   "execution_count": 14,
   "metadata": {},
   "outputs": [
    {
     "name": "stdout",
     "output_type": "stream",
     "text": [
      "10\n",
      "20.345\n",
      "30.345\n",
      "20.345\n",
      "0.4915212582944213\n",
      "0.0\n"
     ]
    }
   ],
   "source": [
    "# operators\n",
    "c=a+b\n",
    "print(a)\n",
    "print(b)\n",
    "print(c)\n",
    "c=b\n",
    "print(c)\n",
    "print(a/b)\n",
    "print(a//b)"
   ]
  },
  {
   "cell_type": "code",
   "execution_count": 17,
   "metadata": {},
   "outputs": [
    {
     "name": "stdout",
     "output_type": "stream",
     "text": [
      "hello\n",
      "<class 'str'>\n",
      "5\n",
      "hellorajat\n"
     ]
    }
   ],
   "source": [
    "#strings\n",
    "a=\"hello\"\n",
    "print(a)\n",
    "print(type(a))\n",
    "length=len(a)\n",
    "print(length)\n",
    "b=\"rajat\"\n",
    "print(a+b)"
   ]
  },
  {
   "cell_type": "code",
   "execution_count": 21,
   "metadata": {},
   "outputs": [
    {
     "name": "stdout",
     "output_type": "stream",
     "text": [
      "Rajat\n",
      "<class 'str'>\n",
      "123\n",
      "123\n",
      "<class 'int'>\n",
      "5\n",
      "RAJAT\n",
      "rajat\n",
      "Rajat\n",
      " Rajat \n"
     ]
    }
   ],
   "source": [
    "a=input()\n",
    "print(type(a))\n",
    "c=int(input())\n",
    "print(c)\n",
    "print(type(c))\n",
    "print(len(a))\n",
    "print(a.upper())\n",
    "print(a.lower())\n",
    "a=\" Rajat \"\n",
    "print(a.strip())\n",
    "print(a)"
   ]
  },
  {
   "cell_type": "code",
   "execution_count": 25,
   "metadata": {},
   "outputs": [
    {
     "name": "stdout",
     "output_type": "stream",
     "text": [
      "abcdefg\n",
      "g\n",
      "g\n",
      "cd\n",
      "efg\n",
      "abcd\n",
      "ef\n"
     ]
    }
   ],
   "source": [
    "s=\"abcdefg\"\n",
    "print(s)\n",
    "print(s[-1])\n",
    "print(s[6])\n",
    "print(s[2:4])\n",
    "print(s[4:])\n",
    "print(s[:4])\n",
    "print(s[-3:-1])"
   ]
  },
  {
   "cell_type": "code",
   "execution_count": 27,
   "metadata": {},
   "outputs": [
    {
     "name": "stdout",
     "output_type": "stream",
     "text": [
      "(1, 2, 3)\n",
      "<class 'tuple'>\n",
      "<class 'int'>\n",
      "<class 'str'>\n",
      "<class 'float'>\n",
      "(1, 2, 3, 1, 'abc', 2.45)\n",
      "(1, 2, 3, 1, 2, 3)\n",
      "True\n",
      "True\n",
      "False\n"
     ]
    }
   ],
   "source": [
    "t=(1,2,3)\n",
    "print(t)\n",
    "print(type(t))\n",
    "k=(1,\"abc\",2.45)\n",
    "print(type(k[0]))\n",
    "print(type(k[1]))\n",
    "print(type(k[2]))\n",
    "print(t+k)\n",
    "print(t*2)\n",
    "print(1 in t)\n",
    "print(\"abc\" in k)\n",
    "print(34 in t)"
   ]
  },
  {
   "cell_type": "code",
   "execution_count": null,
   "metadata": {},
   "outputs": [],
   "source": []
  }
 ],
 "metadata": {
  "kernelspec": {
   "display_name": "Python 3",
   "language": "python",
   "name": "python3"
  },
  "language_info": {
   "codemirror_mode": {
    "name": "ipython",
    "version": 3
   },
   "file_extension": ".py",
   "mimetype": "text/x-python",
   "name": "python",
   "nbconvert_exporter": "python",
   "pygments_lexer": "ipython3",
   "version": "3.7.4"
  }
 },
 "nbformat": 4,
 "nbformat_minor": 2
}
