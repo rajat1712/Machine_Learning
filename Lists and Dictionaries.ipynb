{
 "cells": [
  {
   "cell_type": "code",
   "execution_count": 10,
   "metadata": {},
   "outputs": [
    {
     "name": "stdout",
     "output_type": "stream",
     "text": [
      "[1, 2, 3, 4, 5]  \n",
      "[1, 2, 3, 4, 5]  \n",
      "[0, 1, 2, 3, 4, 5, 6, 7, 8, 9]\n",
      " \n",
      "[0, 1, 4, 9, 16, 25, 36, 49, 64, 81]\n"
     ]
    },
    {
     "data": {
      "text/plain": [
       "10"
      ]
     },
     "execution_count": 10,
     "metadata": {},
     "output_type": "execute_result"
    }
   ],
   "source": [
    "#creating lists\n",
    "a=[1,2,3,4,5]\n",
    "print(a,end=\" \")\n",
    "a1=list(a)\n",
    "print(\" \")\n",
    "print(a1,end=\" \")\n",
    "print(\" \")\n",
    "a2=[i for i in range(10)]\n",
    "print(a2)\n",
    "print(\" \")\n",
    "a3=[i*i for i in range(10)]\n",
    "print(a3)\n",
    "len(a3)"
   ]
  },
  {
   "cell_type": "code",
   "execution_count": 19,
   "metadata": {},
   "outputs": [
    {
     "name": "stdout",
     "output_type": "stream",
     "text": [
      "1 2 3 4\n"
     ]
    },
    {
     "data": {
      "text/plain": [
       "[1, 2, 3, 4]"
      ]
     },
     "execution_count": 19,
     "metadata": {},
     "output_type": "execute_result"
    }
   ],
   "source": [
    "#taking input from the user\n",
    "#explained step\n",
    "str=input()\n",
    "str.strip()\n",
    "list=str.split(\" \")\n",
    "for i in range(len(list)):\n",
    "    list[i]=int(list[i])\n",
    "list"
   ]
  },
  {
   "cell_type": "code",
   "execution_count": 21,
   "metadata": {},
   "outputs": [
    {
     "name": "stdout",
     "output_type": "stream",
     "text": [
      "1 2 3 4\n"
     ]
    },
    {
     "data": {
      "text/plain": [
       "[1, 2, 3, 4]"
      ]
     },
     "execution_count": 21,
     "metadata": {},
     "output_type": "execute_result"
    }
   ],
   "source": [
    "#simplified one line step for taking input\n",
    "listnew=[int(x) for x in input().strip().split(\" \")]\n",
    "listnew"
   ]
  },
  {
   "cell_type": "code",
   "execution_count": 23,
   "metadata": {},
   "outputs": [
    {
     "name": "stdout",
     "output_type": "stream",
     "text": [
      "1 3 5 6 10 12\n",
      "6 10 12 "
     ]
    }
   ],
   "source": [
    "list=[int(x) for x in input().strip().split(\" \")]\n",
    "for i in range(0,len(list)):\n",
    "    if(list[i]%2==0):\n",
    "        print(list[i],end=\" \")\n",
    "    else:\n",
    "        continue"
   ]
  },
  {
   "cell_type": "code",
   "execution_count": null,
   "metadata": {},
   "outputs": [],
   "source": []
  },
  {
   "cell_type": "code",
   "execution_count": 25,
   "metadata": {},
   "outputs": [
    {
     "name": "stdout",
     "output_type": "stream",
     "text": [
      "Enter[1,2,3,4,5]\n",
      "<class 'int'>\n"
     ]
    }
   ],
   "source": [
    "a=[1,2,3,4,5]"
   ]
  },
  {
   "cell_type": "code",
   "execution_count": 44,
   "metadata": {},
   "outputs": [
    {
     "data": {
      "text/plain": [
       "[1, 32, 12, 11, 9, 8, 7, 6, 5, 4, 3, 2]"
      ]
     },
     "execution_count": 44,
     "metadata": {},
     "output_type": "execute_result"
    }
   ],
   "source": [
    "list=[1,2,3,4,5]\n",
    "list.append(6)\n",
    "list.insert(6,7)\n",
    "list2=[8,9,10,11,12,13]\n",
    "list.extend(list2)\n",
    "list.pop()\n",
    "list.pop(0)\n",
    "list.remove(10)\n",
    "list.insert(5,64)\n",
    "list.insert(7,32)\n",
    "list.sort()\n",
    "list.reverse()\n",
    "list[0]=1\n",
    "list"
   ]
  },
  {
   "cell_type": "code",
   "execution_count": 46,
   "metadata": {},
   "outputs": [
    {
     "name": "stdout",
     "output_type": "stream",
     "text": [
      "1 3 2 5 4 \n",
      "[1, 2, 3, 4, 5]\n"
     ]
    }
   ],
   "source": [
    "#bubble sort\n",
    "list=[int(x) for x in input().strip().split(\" \")]\n",
    "n=len(list)\n",
    "for round in range(0,n+1):\n",
    "    for i in range(0,n-1-round):\n",
    "        if(list[i] > list[i+1]):\n",
    "            temp=list[i]\n",
    "            list[i]=list[i+1]\n",
    "            list[i+1]=temp\n",
    "print(list)"
   ]
  },
  {
   "cell_type": "code",
   "execution_count": 49,
   "metadata": {},
   "outputs": [
    {
     "name": "stdout",
     "output_type": "stream",
     "text": [
      "2 5 1 3 10 8 8\n",
      "[1, 2, 3, 5, 8, 8, 10]\n"
     ]
    }
   ],
   "source": [
    "#selection sort\n",
    "list=[int(x) for x in input().strip().split(\" \")]\n",
    "n=len(list)\n",
    "for round in range(0,n-1):\n",
    "    min=list[round]\n",
    "    index=round\n",
    "    for i in range(round+1,n):\n",
    "        if(list[i] < min):\n",
    "            min=list[i]\n",
    "            index=i\n",
    "    temp=list[round]\n",
    "    list[round]=list[index]\n",
    "    list[index]=temp\n",
    "print(list)"
   ]
  },
  {
   "cell_type": "code",
   "execution_count": 50,
   "metadata": {},
   "outputs": [
    {
     "name": "stdout",
     "output_type": "stream",
     "text": [
      "1 4 9 3 2\n",
      "2\n"
     ]
    }
   ],
   "source": [
    "#array equilibrium index(O(n2))\n",
    "def fun(list):\n",
    "    n=len(list)\n",
    "    for i in range(0,n):\n",
    "        leftSum=0\n",
    "        for j in range(0,i):\n",
    "            leftSum=leftSum+list[j]\n",
    "        rightSum=0\n",
    "        for k in range(i+1,n):\n",
    "            rightSum=rightSum+list[k]\n",
    "        if(rightSum==leftSum):\n",
    "            return i\n",
    "    return -1\n",
    "\n",
    "list=[int(x) for i in input().strip().split(\" \")]\n",
    "print(fun(list))\n",
    "        \n"
   ]
  },
  {
   "cell_type": "code",
   "execution_count": 54,
   "metadata": {},
   "outputs": [
    {
     "data": {
      "text/plain": [
       "{12: 24, 15: 27, 18: 30}"
      ]
     },
     "execution_count": 54,
     "metadata": {},
     "output_type": "execute_result"
    }
   ],
   "source": [
    "d={}\n",
    "d[12]=24\n",
    "d[15]=27\n",
    "d[18]=30\n",
    "d[\"rajat\"]=\"yes\"\n",
    "del d[\"rajat\"]\n",
    "d"
   ]
  },
  {
   "cell_type": "code",
   "execution_count": null,
   "metadata": {},
   "outputs": [],
   "source": [
    "#reverse string word wise\n",
    "string=input()\n",
    "newString=string.strip().split(\" \")\n",
    "newString.reverse()\n",
    "print(\" \".join(newString))"
   ]
  },
  {
   "cell_type": "code",
   "execution_count": null,
   "metadata": {},
   "outputs": [],
   "source": [
    "print(hello)"
   ]
  }
 ],
 "metadata": {
  "kernelspec": {
   "display_name": "Python 3",
   "language": "python",
   "name": "python3"
  },
  "language_info": {
   "codemirror_mode": {
    "name": "ipython",
    "version": 3
   },
   "file_extension": ".py",
   "mimetype": "text/x-python",
   "name": "python",
   "nbconvert_exporter": "python",
   "pygments_lexer": "ipython3",
   "version": "3.7.4"
  }
 },
 "nbformat": 4,
 "nbformat_minor": 2
}
